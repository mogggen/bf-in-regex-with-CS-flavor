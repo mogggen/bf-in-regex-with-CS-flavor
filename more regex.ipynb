{
 "cells": [
  {
   "cell_type": "markdown",
   "metadata": {},
   "source": [
    "### regexfactory.py"
   ]
  },
  {
   "cell_type": "code",
   "execution_count": null,
   "metadata": {},
   "outputs": [],
   "source": [
    "with open(\"regex\", 'w+') as f:\n",
    "  for char in range(2**8):\n",
    "    low = \"{:02d}\".format(char % 256)\n",
    "    high = \"{:02d}\".format((char + 1) % 256)\n",
    "    f.write(f\"(?<=\\^){low}[^{high}]+({high})([^+]+\\+)\"+\"{2}|\")\n",
    "    f.write(f\"(?<=\\^){high}[^{low}]+({low})([^+]+\\+)\"+\"{2}|\")"
   ]
  },
  {
   "cell_type": "markdown",
   "metadata": {},
   "source": [
    "## fix bf-regex\n",
    "- [x] + in a general way \\1(.)\n",
    "- [x] - in a general way (.)\\1\n",
    "- [x] > and <\n",
    "- [ ] , could take the very next as input \n",
    "- [ ] last double newline divides the regex into (buffer, byte atlas, bf code, input)\n",
    "-----\n",
    "#### Goal\n",
    "- [ ] You can use the same regex and by following the syntax of the string;\n",
    "if not followed the string wont match; this way\n",
    "\n",
    "\n",
    "### regex syntax idea\n",
    "```clojure\n",
    "\\^([\\000-\\255])[^\\1]*(?:\\1([^\\n])|^.)[^+]+\\+|\\^([\\000-\\255])[^\\1]*(?:(.)\\1|(.)$)[^-]+\\-\n",
    "\n",
    "(?<=\\^)[^\\000]|\n",
    "[^[]+\\[[^][]*+(?:(?R)[^][]*)*+\\]|\n",
    "(\\[([^^]*\\^[^^]*)])\n",
    "(?<=\\^)\\000[^\\001]+(\\001)([^+]+\\+){2}|\n",
    "(?<=\\^)\\001[^\\000]+(\\000)([^-]+-){2}|\n",
    "((?<=\\^)[\\000-\\255]\\s+()[\\000-\\255]|()[\\000-\\255]\\s+(?<=\\^)[\\000-\\255])([^>]+>){2}|\n",
    "(()[\\000-\\255]\\s+(?<=\\^)[\\000-\\255]|(?<=\\^)[\\000-\\255]\\s+()[\\000-\\255])([^<]+<){2}|\n",
    "\n",
    "(?<=\\^)([\\000-\\255])[^.]+\\.|\n",
    "(?<=\\^)([\\000-\\255])[^,]+,[\\000-\\255]\n",
    "```"
   ]
  },
  {
   "cell_type": "markdown",
   "metadata": {},
   "source": [
    "## Handling of Parenthesis\n",
    "\n",
    "First trim comments and whitespace\n",
    "\n",
    "```brainfuck\n",
    "[-343-a-3a-<-v+[anvbaboa+[\n",
    "asd3<<002>>>+av+[s]+a+v++a+]]]\n",
    "```"
   ]
  },
  {
   "cell_type": "markdown",
   "metadata": {},
   "source": [
    "### Replace comment and whitespace with empty string"
   ]
  },
  {
   "cell_type": "markdown",
   "metadata": {
    "vscode": {
     "languageId": "javascript"
    }
   },
   "source": [
    "```clojure\n",
    "[^+\\-<>\\][]\n",
    "```"
   ]
  },
  {
   "cell_type": "markdown",
   "metadata": {
    "vscode": {
     "languageId": "javascript"
    }
   },
   "source": [
    "```brainfuck\n",
    "[----<-+[+[<<>>>++[]+++++]]]\n",
    "```"
   ]
  },
  {
   "cell_type": "markdown",
   "metadata": {
    "vscode": {
     "languageId": "javascript"
    }
   },
   "source": [
    "First compile it\n",
    "```clojure\n",
    "(?<!(?<sd>[\\0-\\xFF]))\\[.+\\](?!\\k<sd>)\n",
    "```\n",
    "\n",
    "Match over compiled version\n",
    "```clojure\n",
    "((?<lok>[a-z])\\^\\[).+?(\\]\\k<lok>)\n",
    "```\n",
    "\n",
    "```brainfuck\n",
    "{++++(++++++(+++)+)}\n",
    "```\n",
    "\n",
    "all bytes going into the character atlas\n",
    "```\n",
    "ĀāĂăĄąĆ\b\t\n",
    "\u000b\f\u000e\u000f\u0010\u0011\u0012\u0013\u0014\u0015\u0016\u0017\u0018\u0019\u001a\u001b\u001c\u001d\u001e\u001f !\"#$%&'()*+,-./0123456789:;<=>?@ABCDEFGHIJKLMNOPQRSTUVWXYZ[\\]^_`abcdefghijklmnopqrstuvwxyz{|}~ ¡¢£¤¥¦§¨©ª«¬­®¯°±²³´µ¶·¸¹º»¼½¾¿ÀÁÂÃÄÅÆÇÈÉÊËÌÍÎÏÐÑÒÓÔÕÖ×ØÙÚÛÜÝÞßàáâãäåæçèéêëìíîïðñòóôõö÷øùúûüýþÿ\n",
    "```"
   ]
  }
 ],
 "metadata": {
  "language_info": {
   "name": "python"
  }
 },
 "nbformat": 4,
 "nbformat_minor": 2
}
